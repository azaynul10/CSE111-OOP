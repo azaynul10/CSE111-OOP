{
  "nbformat": 4,
  "nbformat_minor": 0,
  "metadata": {
    "colab": {
      "provenance": []
    },
    "kernelspec": {
      "name": "python3",
      "display_name": "Python 3"
    },
    "language_info": {
      "name": "python"
    }
  },
  "cells": [
    {
      "cell_type": "code",
      "execution_count": 4,
      "metadata": {
        "colab": {
          "base_uri": "https://localhost:8080/"
        },
        "id": "CseEEYqH-eRx",
        "outputId": "182f6e0f-c6cd-40d4-bc84-26b27ddbff2b"
      },
      "outputs": [
        {
          "output_type": "stream",
          "name": "stdout",
          "text": [
            "Branch Name: Dhaka Branch\n",
            "Movie No: 1\n",
            "Prohelika - Drama - 153\n",
            "..............................................\n",
            "Movie No: 2\n",
            "Barbie - Animation - 120\n",
            "..............................................\n",
            "Branch Name: Chittagong Branch\n",
            "Movie No: 1\n",
            "Barbie - Animation - 120\n",
            "..............................................\n",
            "Movie No: 2\n",
            "Oppenheimer - Action - 180\n",
            "..............................................\n",
            "Movie 'Barbie' is streaming in Dhaka Branch branch with Genre: Animation and Duration: 120 minutes.\n",
            "Movie 'Barbie' is streaming in Chittagong Branch branch with Genre: Animation and Duration: 120 minutes.\n",
            "Branch Name: Dhaka Branch\n",
            "Movie No: 1\n",
            "Prohelika - Drama - 153\n",
            "..............................................\n",
            "Movie No: 2\n",
            "Barbie - Animation - 120\n",
            "..............................................\n",
            "Branch Name: Chittagong Branch\n",
            "Movie No: 1\n",
            "Barbie - Animation - 120\n",
            "..............................................\n"
          ]
        }
      ],
      "source": [
        "class Movie:\n",
        "  def __init__(self, name, genre, duration):\n",
        "    self.name = name\n",
        "    self.genre = genre\n",
        "    self.duration = duration\n",
        "\n",
        "  def movieInfo(self):\n",
        "    return f\"{self.name} - {self.genre} - {self.duration}\"\n",
        "\n",
        "  @classmethod\n",
        "  def createMovie_fromString(cls, movie_str):\n",
        "    name, genre, duration = movie_str.split('-')\n",
        "    return cls(name, genre, int(duration))\n",
        "\n",
        "class StarCinema:\n",
        "    branch_info = {}\n",
        "\n",
        "    def __init__(self, branch_name):\n",
        "        self.branch_name = branch_name\n",
        "        self.movie_list = []\n",
        "\n",
        "    def add_movie(self, movie):\n",
        "        if movie not in self.movie_list:\n",
        "            self.movie_list.append(movie)\n",
        "            StarCinema.branch_info.setdefault(self.branch_name, []).append(movie)\n",
        "\n",
        "    def addMovies(self, *movie_objects):\n",
        "        for movie in movie_objects:\n",
        "            self.add_movie(movie)\n",
        "\n",
        "    def removeMovie(self, movie_object):\n",
        "        if movie_object in self.movie_list:\n",
        "            self.movie_list.remove(movie_object)\n",
        "            StarCinema.branch_info[self.branch_name].remove(movie_object)\n",
        "\n",
        "    @classmethod\n",
        "    def check(cls, movie_name):\n",
        "        branches_streaming = [branch for branch, movies in cls.branch_info.items() if any(movie.name == movie_name for movie in movies)]\n",
        "        if branches_streaming:\n",
        "            for branch in branches_streaming:\n",
        "                movie = next(movie for movie in cls.branch_info[branch] if movie.name == movie_name)\n",
        "                print(f\"Movie '{movie_name}' is streaming in {branch} branch with Genre: {movie.genre} and Duration: {movie.duration} minutes.\")\n",
        "        else:\n",
        "            print(f\"Movie '{movie_name}' is not being streamed in any branch.\")\n",
        "\n",
        "    @classmethod\n",
        "    def showAllBranchInfo(cls):\n",
        "        for branch, movies in cls.branch_info.items():\n",
        "            print(f\"Branch Name: {branch}\")\n",
        "            for index, movie in enumerate(movies, 1):\n",
        "                print(f\"Movie No: {index}\")\n",
        "                print(movie.movieInfo())\n",
        "                print(\"..............................................\")\n",
        "\n",
        "\n",
        "movie1 = Movie.createMovie_fromString('Prohelika-Drama-153')\n",
        "movie2 = Movie.createMovie_fromString('Barbie-Animation-120')\n",
        "movie3 = Movie.createMovie_fromString('Oppenheimer-Action-180')\n",
        "\n",
        "star_cinema_branch1 = StarCinema('Dhaka Branch')\n",
        "star_cinema_branch1.addMovies(movie1, movie2)\n",
        "\n",
        "star_cinema_branch2 = StarCinema('Chittagong Branch')\n",
        "star_cinema_branch2.addMovies(movie2, movie3)\n",
        "\n",
        "StarCinema.showAllBranchInfo()\n",
        "\n",
        "StarCinema.check('Barbie')\n",
        "\n",
        "star_cinema_branch2.removeMovie(movie3)\n",
        "StarCinema.showAllBranchInfo()\n"
      ]
    }
  ]
}
